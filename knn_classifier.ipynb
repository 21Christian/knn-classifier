{
 "cells": [
  {
   "cell_type": "code",
   "execution_count": 7,
   "id": "e474aae2",
   "metadata": {},
   "outputs": [],
   "source": [
    "import pandas as pd \n",
    "from sklearn.datasets import load_digits\n",
    "\n",
    "# preparing the dataframe\n",
    "\n",
    "digits = load_digits()\n",
    "df = pd.DataFrame(digits.data, columns = digits.feature_names)\n",
    "df['target'] = digits.target\n"
   ]
  },
  {
   "cell_type": "code",
   "execution_count": 10,
   "id": "c7d89ef3",
   "metadata": {},
   "outputs": [],
   "source": [
    "from sklearn.model_selection import train_test_split\n",
    "\n",
    "# preparing the training and testing sets\n",
    "\n",
    "X = df.drop(['target'], axis='columns')\n",
    "y = df.target\n",
    "X_train, X_test, y_train, y_test = train_test_split(X, y, test_size=0.2, random_state=1)\n",
    "\n"
   ]
  },
  {
   "cell_type": "code",
   "execution_count": 27,
   "id": "23e3ba13",
   "metadata": {},
   "outputs": [
    {
     "data": {
      "text/plain": [
       "{'weights': 'distance',\n",
       " 'p': 2,\n",
       " 'n_neighbors': 1,\n",
       " 'n_jobs': 5,\n",
       " 'leaf_size': 10,\n",
       " 'algorithm': 'auto'}"
      ]
     },
     "execution_count": 27,
     "metadata": {},
     "output_type": "execute_result"
    }
   ],
   "source": [
    "from sklearn.neighbors import KNeighborsClassifier\n",
    "from sklearn.model_selection import RandomizedSearchCV\n",
    "\n",
    "# choosing the best parameteters \n",
    "\n",
    "rs = RandomizedSearchCV(KNeighborsClassifier(), {\n",
    "        'n_neighbors' : [1, 3, 5, 10, 15, 20, 50, 100],\n",
    "        'weights' : ['uniform', 'distance'],\n",
    "        'algorithm' : ['auto', 'ball_tree', 'kd_tree', 'brute'],\n",
    "        'leaf_size' : [1, 10, 30, 50, 100],\n",
    "        'p' : [1,2,3,4,5,6,7,8],\n",
    "        'n_jobs' : [1, 2, 5, 10, 20, 50, 100]\n",
    "        \n",
    "    }, \n",
    "    cv=5, \n",
    "    return_train_score=False, \n",
    "    n_iter=2\n",
    ")\n",
    "rs.fit(X, y)\n",
    "rs.best_params_\n"
   ]
  },
  {
   "cell_type": "code",
   "execution_count": 29,
   "id": "2ef871e5",
   "metadata": {},
   "outputs": [
    {
     "data": {
      "text/plain": [
       "0.9916666666666667"
      ]
     },
     "execution_count": 29,
     "metadata": {},
     "output_type": "execute_result"
    }
   ],
   "source": [
    "# training and testing the model's accuracy\n",
    "\n",
    "knn = KNeighborsClassifier(n_neighbors=10, weights='distance', algorithm='auto', leaf_size=10, n_jobs=5)\n",
    "knn.fit(X_train, y_train)\n",
    "knn.score(X_test, y_test)"
   ]
  },
  {
   "cell_type": "code",
   "execution_count": 28,
   "id": "ed7b9b38",
   "metadata": {},
   "outputs": [
    {
     "data": {
      "text/plain": [
       "Text(42.0, 0.5, 'Truth')"
      ]
     },
     "execution_count": 28,
     "metadata": {},
     "output_type": "execute_result"
    },
    {
     "data": {
      "image/png": "[encoded data removed]",
      "text/plain": [
       "<Figure size 504x360 with 2 Axes>"
      ]
     },
     "metadata": {
      "needs_background": "light"
     },
     "output_type": "display_data"
    }
   ],
   "source": [
    "# building the cunfussion matrix \n",
    "%matplotlib inline\n",
    "import matplotlib.pyplot as plt\n",
    "import seaborn as sn\n",
    "from sklearn.metrics import confusion_matrix\n",
    "\n",
    "y_predicted = knn.predict(X_test)\n",
    "cm = confusion_matrix(y_test, y_predicted)\n",
    "\n",
    "plt.figure(figsize=(7,5))\n",
    "sn.heatmap(cm, annot=True)\n",
    "plt.xlabel('Predicted')\n",
    "plt.ylabel('Truth')"
   ]
  }
 ],
 "metadata": {
  "kernelspec": {
   "display_name": "Python 3 (ipykernel)",
   "language": "python",
   "name": "python3"
  },
  "language_info": {
   "codemirror_mode": {
    "name": "ipython",
    "version": 3
   },
   "file_extension": ".py",
   "mimetype": "text/x-python",
   "name": "python",
   "nbconvert_exporter": "python",
   "pygments_lexer": "ipython3",
   "version": "3.9.12"
  }
 },
 "nbformat": 4,
 "nbformat_minor": 5
}
